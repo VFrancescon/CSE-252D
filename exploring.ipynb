{
 "cells": [
  {
   "cell_type": "code",
   "execution_count": 12,
   "metadata": {},
   "outputs": [],
   "source": [
    "import random\n",
    "import objaverse\n",
    "import os\n",
    "import multiprocessing\n",
    "\n",
    "PROCESSES = multiprocessing.cpu_count() - 2 # leave some cpus for other stuff to not kill the PC\n",
    "PATH = \"/Users/szczekulskij/.objaverse/hf-objaverse-v1/glbs/\"\n",
    "\n",
    "def get_ids_of_already_downloaded_objects(path = PATH):\n",
    "    ''' \n",
    "    Objects are stored in form PATH/{gibberish}/{uid}.glb\n",
    "    '''\n",
    "    downloaded_objects = {}\n",
    "    for root, dirs, files in os.walk(path):\n",
    "        for file in files:\n",
    "            if file.endswith(\".glb\"):\n",
    "                uid = file.split(\".\")[0]\n",
    "                downloaded_objects[uid] = root + uid + \".glb\"\n",
    "\n",
    "    return downloaded_objects\n",
    "    \n",
    "\n",
    "\n",
    "def download_3d_objects_from_objectverse(nr_objects, nr_processes = PROCESSES):\n",
    "    '''\n",
    "    saves to \"~/.objaverse/hf-objaverse-v1/glbs/\" path by default\n",
    "    '''\n",
    "    allUids = objaverse.load_uids()\n",
    "    downloaded_uids = get_ids_of_already_downloaded_objects()\n",
    "    uids = [uid for uid in allUids if uid not in downloaded_uids] # remove already downloaded objects (quick operation, dw)\n",
    "    uids = random.sample(uids, nr_objects) # get random objects\n",
    "    objects = objaverse.load_objects(\n",
    "        uids=uids,\n",
    "        download_processes=nr_processes\n",
    "    )\n",
    "    return objects"
   ]
  },
  {
   "cell_type": "code",
   "execution_count": null,
   "metadata": {},
   "outputs": [],
   "source": [
    "def "
   ]
  }
 ],
 "metadata": {
  "kernelspec": {
   "display_name": "base",
   "language": "python",
   "name": "python3"
  },
  "language_info": {
   "codemirror_mode": {
    "name": "ipython",
    "version": 3
   },
   "file_extension": ".py",
   "mimetype": "text/x-python",
   "name": "python",
   "nbconvert_exporter": "python",
   "pygments_lexer": "ipython3",
   "version": "3.10.8"
  }
 },
 "nbformat": 4,
 "nbformat_minor": 2
}

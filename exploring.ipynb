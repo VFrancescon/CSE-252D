{
 "cells": [
  {
   "cell_type": "code",
   "execution_count": 16,
   "metadata": {},
   "outputs": [],
   "source": [
    "import random\n",
    "import objaverse\n",
    "import os\n",
    "import multiprocessing\n",
    "\n",
    "PROCESSES = multiprocessing.cpu_count() - 2 # leave some cpus for other stuff to not kill the PC\n",
    "OBJAVERSE_PATH = \"/Users/szczekulskij/.objaverse/hf-objaverse-v1/glbs/\" # default path for where the objaverse objects are stored\n",
    "IMAGE_PATH = '''/Users/szczekulskij/masters-work/spring '24/CSE-252D/2d-images/''' # default path for where the objaverse images are stored\n",
    "\n",
    "# if IMAGE_PATH or OBJAVERSE_PATH is not found, it will be created\n",
    "if not os.path.exists(IMAGE_PATH): os.makedirs(IMAGE_PATH)\n",
    "if not os.path.exists(OBJAVERSE_PATH): os.makedirs(OBJAVERSE_PATH)\n",
    "\n",
    "def get_ids_of_already_downloaded_objects(objaverse_path = OBJAVERSE_PATH, image_path = IMAGE_PATH):\n",
    "    ''' \n",
    "    Objects from objaverse are stored in form PATH/{gibberish}/{uid}.glb\n",
    "    Rendering (2d images) are stored in form PATH/{uid}/{light_params_camera_params}.png\n",
    "    '''\n",
    "    downloaded_objects = set()\n",
    "    for root, dirs, files in os.walk(OBJAVERSE_PATH):\n",
    "        for file in files:\n",
    "            if file.endswith(\".glb\"):\n",
    "                uid = file.split(\".\")[0]\n",
    "                downloaded_objects.add(uid)\n",
    "\n",
    "    for root, dirs, files in os.walk(IMAGE_PATH):\n",
    "        for file in files:\n",
    "            if file.endswith(\".png\"):\n",
    "                uid = file.split(\"/\")[0]\n",
    "                downloaded_objects.add(uid)\n",
    "\n",
    "    return downloaded_objects\n",
    "    \n",
    "\n",
    "\n",
    "def download_3d_objects_from_objectverse(nr_objects, nr_processes = PROCESSES):\n",
    "    '''\n",
    "    saves to \"~/.objaverse/hf-objaverse-v1/glbs/\" path by default\n",
    "    '''\n",
    "    allUids = objaverse.load_uids()\n",
    "    downloaded_uids = get_ids_of_already_downloaded_objects()\n",
    "    uids = [uid for uid in allUids if uid not in downloaded_uids] # remove already downloaded objects (quick operation, dw)\n",
    "    uids = random.sample(uids, nr_objects) # get random objects\n",
    "    objects = objaverse.load_objects(\n",
    "        uids=uids,\n",
    "        download_processes=nr_processes\n",
    "    )\n",
    "    return objects"
   ]
  },
  {
   "cell_type": "code",
   "execution_count": 17,
   "metadata": {},
   "outputs": [],
   "source": [
    "import argparse\n",
    "import json\n",
    "import math\n",
    "import os\n",
    "import random\n",
    "import sys\n",
    "import time\n",
    "import urllib.request\n",
    "import uuid\n",
    "from typing import Tuple\n",
    "from mathutils import Vector, Matrix\n",
    "import numpy as np\n",
    "\n",
    "import bpy\n",
    "from mathutils import Vector\n"
   ]
  },
  {
   "cell_type": "code",
   "execution_count": null,
   "metadata": {},
   "outputs": [],
   "source": []
  }
 ],
 "metadata": {
  "kernelspec": {
   "display_name": "base",
   "language": "python",
   "name": "python3"
  },
  "language_info": {
   "codemirror_mode": {
    "name": "ipython",
    "version": 3
   },
   "file_extension": ".py",
   "mimetype": "text/x-python",
   "name": "python",
   "nbconvert_exporter": "python",
   "pygments_lexer": "ipython3",
   "version": "3.10.8"
  }
 },
 "nbformat": 4,
 "nbformat_minor": 2
}

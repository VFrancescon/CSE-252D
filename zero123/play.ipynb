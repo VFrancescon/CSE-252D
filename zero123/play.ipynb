{
 "cells": [
  {
   "cell_type": "code",
   "execution_count": 1,
   "metadata": {},
   "outputs": [
    {
     "name": "stderr",
     "output_type": "stream",
     "text": [
      "/Users/hongseokoh/miniforge3/envs/zero123/lib/python3.9/site-packages/tqdm/auto.py:21: TqdmWarning: IProgress not found. Please update jupyter and ipywidgets. See https://ipywidgets.readthedocs.io/en/stable/user_install.html\n",
      "  from .autonotebook import tqdm as notebook_tqdm\n"
     ]
    }
   ],
   "source": [
    "import argparse, os, sys, datetime, glob, importlib, csv\n",
    "from omegaconf import OmegaConf\n",
    "from pytorch_lightning.trainer import Trainer\n",
    "import torch\n",
    "\n",
    "from ldm.util import instantiate_from_config"
   ]
  },
  {
   "cell_type": "code",
   "execution_count": 2,
   "metadata": {},
   "outputs": [
    {
     "name": "stdout",
     "output_type": "stream",
     "text": [
      "LatentDiffusion: Running in eps-prediction mode\n",
      "DiffusionWrapper has 859.53 M params.\n",
      "Keeping EMAs of 688.\n",
      "making attention of type 'vanilla' with 512 in_channels\n",
      "Working with z of shape (1, 4, 32, 32) = 4096 dimensions.\n",
      "making attention of type 'vanilla' with 512 in_channels\n"
     ]
    },
    {
     "name": "stderr",
     "output_type": "stream",
     "text": [
      "100%|███████████████████████████████████████| 890M/890M [00:51<00:00, 18.1MiB/s]\n"
     ]
    },
    {
     "name": "stdout",
     "output_type": "stream",
     "text": [
      "Found nested key 'state_dict' in checkpoint, loading this instead\n",
      "Manual init: model.diffusion_model.input_blocks.0.0.weight\n"
     ]
    }
   ],
   "source": [
    "config = OmegaConf.load('/Users/hongseokoh/Documents/GitHub/zero123/zero123/configs/sd-objaverse-finetune-c_concat-256.yaml')\n",
    "finetune_from = '/Users/hongseokoh/sd-image-conditioned-v2.ckpt'\n",
    "\n",
    "model = instantiate_from_config(config.model)\n",
    "model.cpu()\n",
    "\n",
    "old_state = torch.load(finetune_from, map_location=\"cpu\")\n",
    "\n",
    "if \"state_dict\" in old_state:\n",
    "    print(f\"Found nested key 'state_dict' in checkpoint, loading this instead\")\n",
    "    old_state = old_state[\"state_dict\"]\n",
    "\n",
    "# Check if we need to port weights from 4ch input to 8ch\n",
    "in_filters_load = old_state[\"model.diffusion_model.input_blocks.0.0.weight\"]\n",
    "new_state = model.state_dict()\n",
    "in_filters_current = new_state[\"model.diffusion_model.input_blocks.0.0.weight\"]\n",
    "in_shape = in_filters_current.shape\n",
    "if in_shape != in_filters_load.shape:\n",
    "    input_keys = [\n",
    "        \"model.diffusion_model.input_blocks.0.0.weight\",\n",
    "        \"model_ema.diffusion_modelinput_blocks00weight\",\n",
    "    ]\n",
    "    \n",
    "    for input_key in input_keys:\n",
    "        if input_key not in old_state or input_key not in new_state:\n",
    "            continue\n",
    "        input_weight = new_state[input_key]\n",
    "        if input_weight.size() != old_state[input_key].size():\n",
    "            print(f\"Manual init: {input_key}\")\n",
    "            input_weight.zero_()\n",
    "            input_weight[:, :4, :, :].copy_(old_state[input_key])\n",
    "            old_state[input_key] = torch.nn.parameter.Parameter(input_weight)\n",
    "\n",
    "m, u = model.load_state_dict(old_state, strict=False)\n"
   ]
  },
  {
   "cell_type": "code",
   "execution_count": 6,
   "metadata": {},
   "outputs": [
    {
     "data": {
      "text/plain": [
       "torch.Size([320, 8, 3, 3])"
      ]
     },
     "execution_count": 6,
     "metadata": {},
     "output_type": "execute_result"
    }
   ],
   "source": [
    "in_filters_current.shape"
   ]
  },
  {
   "cell_type": "code",
   "execution_count": 7,
   "metadata": {},
   "outputs": [
    {
     "data": {
      "text/plain": [
       "torch.Size([320, 4, 3, 3])"
      ]
     },
     "execution_count": 7,
     "metadata": {},
     "output_type": "execute_result"
    }
   ],
   "source": [
    "in_filters_load.shape"
   ]
  },
  {
   "cell_type": "code",
   "execution_count": 10,
   "metadata": {},
   "outputs": [
    {
     "data": {
      "text/plain": [
       "torch.Size([320, 8, 3, 3])"
      ]
     },
     "execution_count": 10,
     "metadata": {},
     "output_type": "execute_result"
    }
   ],
   "source": [
    "new_state[\"model_ema.diffusion_modelinput_blocks00weight\"].shape"
   ]
  },
  {
   "cell_type": "code",
   "execution_count": 11,
   "metadata": {},
   "outputs": [
    {
     "ename": "KeyError",
     "evalue": "'model_ema.diffusion_modelinput_blocks00weight'",
     "output_type": "error",
     "traceback": [
      "\u001b[0;31m---------------------------------------------------------------------------\u001b[0m",
      "\u001b[0;31mKeyError\u001b[0m                                  Traceback (most recent call last)",
      "Cell \u001b[0;32mIn[11], line 1\u001b[0m\n\u001b[0;32m----> 1\u001b[0m \u001b[43mold_state\u001b[49m\u001b[43m[\u001b[49m\u001b[38;5;124;43m\"\u001b[39;49m\u001b[38;5;124;43mmodel_ema.diffusion_modelinput_blocks00weight\u001b[39;49m\u001b[38;5;124;43m\"\u001b[39;49m\u001b[43m]\u001b[49m\u001b[38;5;241m.\u001b[39mshape\n",
      "\u001b[0;31mKeyError\u001b[0m: 'model_ema.diffusion_modelinput_blocks00weight'"
     ]
    }
   ],
   "source": [
    "old_state[\"model_ema.diffusion_modelinput_blocks00weight\"].shape"
   ]
  },
  {
   "cell_type": "code",
   "execution_count": null,
   "metadata": {},
   "outputs": [],
   "source": []
  }
 ],
 "metadata": {
  "kernelspec": {
   "display_name": "Python 3",
   "language": "python",
   "name": "python3"
  },
  "language_info": {
   "codemirror_mode": {
    "name": "ipython",
    "version": 3
   },
   "file_extension": ".py",
   "mimetype": "text/x-python",
   "name": "python",
   "nbconvert_exporter": "python",
   "pygments_lexer": "ipython3",
   "version": "3.9.undefined"
  }
 },
 "nbformat": 4,
 "nbformat_minor": 2
}

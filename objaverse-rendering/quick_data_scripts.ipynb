{
 "cells": [
  {
   "cell_type": "code",
   "execution_count": 20,
   "metadata": {},
   "outputs": [],
   "source": [
    "# script to check how many files are there in each subfoler  of \"objaverse_data_limited_lightning\" folder \n",
    "# print if the number is different than 8\n",
    "\n",
    "import os\n",
    "\n",
    "# FOLDER = \"/Users/szczekulskij/masters-work/spring '24/CSE-252D/objaverse-rendering/objaverse_data_limited_lightning\"\n",
    "FOLDER = \"/Users/szczekulskij/masters-work/spring '24/CSE-252D/objaverse-rendering/objaverse_data\"\n",
    "\n",
    "# Iterate over all directories in the folder\n",
    "for dir_name in os.listdir(FOLDER):\n",
    "    dir_path = os.path.join(FOLDER, dir_name)\n",
    "\n",
    "    # Ensure it's a directory\n",
    "    if os.path.isdir(dir_path):\n",
    "        # Count the number of files in the directory\n",
    "        num_files = len([f for f in os.listdir(dir_path) if os.path.isfile(os.path.join(dir_path, f))])\n",
    "\n",
    "        # Print the directory name if the number of files is not 8\n",
    "        # if num_files >= 16:\n",
    "        #     print(f\"Directory {dir_name} has {num_files} files\")"
   ]
  },
  {
   "cell_type": "code",
   "execution_count": 14,
   "metadata": {},
   "outputs": [],
   "source": [
    "IMAGE_PATH = os.path.expanduser('''~/masters-work/spring '24/CSE-252D/objaverse-rendering/objaverse_data_limited_lightning''') # default path for where the rendered objaverse images will be stored\n",
    "\n",
    "downloaded_objects = set()\n",
    "for root, dirs, files in os.walk(IMAGE_PATH):\n",
    "    # based on dir name \n",
    "    for dir in dirs: \n",
    "        downloaded_objects.add(dir)"
   ]
  },
  {
   "cell_type": "code",
   "execution_count": 1,
   "metadata": {},
   "outputs": [
    {
     "ename": "FileNotFoundError",
     "evalue": "[Errno 2] No such file or directory: 'data/562ac1cb77ad492a8de474976856b1ba_002.png'",
     "output_type": "error",
     "traceback": [
      "\u001b[0;31m---------------------------------------------------------------------------\u001b[0m",
      "\u001b[0;31mFileNotFoundError\u001b[0m                         Traceback (most recent call last)",
      "Cell \u001b[0;32mIn[1], line 33\u001b[0m\n\u001b[1;32m     30\u001b[0m filename_list\u001b[38;5;241m.\u001b[39mappend(new_file_name)\n\u001b[1;32m     32\u001b[0m \u001b[38;5;66;03m# Copy the file\u001b[39;00m\n\u001b[0;32m---> 33\u001b[0m \u001b[43mshutil\u001b[49m\u001b[38;5;241;43m.\u001b[39;49m\u001b[43mcopyfile\u001b[49m\u001b[43m(\u001b[49m\u001b[43mfile_path\u001b[49m\u001b[43m,\u001b[49m\u001b[43m \u001b[49m\u001b[43mnew_file_path\u001b[49m\u001b[43m)\u001b[49m\n\u001b[1;32m     34\u001b[0m \u001b[38;5;28mprint\u001b[39m(\u001b[38;5;124m\"\u001b[39m\u001b[38;5;124mfile_path: \u001b[39m\u001b[38;5;124m\"\u001b[39m, file_path)\n\u001b[1;32m     35\u001b[0m \u001b[38;5;28mprint\u001b[39m(\u001b[38;5;124m\"\u001b[39m\u001b[38;5;124mnew_file_path: \u001b[39m\u001b[38;5;124m\"\u001b[39m, new_file_path)\n",
      "File \u001b[0;32m~/miniforge3/lib/python3.10/shutil.py:256\u001b[0m, in \u001b[0;36mcopyfile\u001b[0;34m(src, dst, follow_symlinks)\u001b[0m\n\u001b[1;32m    254\u001b[0m \u001b[38;5;28;01mwith\u001b[39;00m \u001b[38;5;28mopen\u001b[39m(src, \u001b[38;5;124m'\u001b[39m\u001b[38;5;124mrb\u001b[39m\u001b[38;5;124m'\u001b[39m) \u001b[38;5;28;01mas\u001b[39;00m fsrc:\n\u001b[1;32m    255\u001b[0m     \u001b[38;5;28;01mtry\u001b[39;00m:\n\u001b[0;32m--> 256\u001b[0m         \u001b[38;5;28;01mwith\u001b[39;00m \u001b[38;5;28;43mopen\u001b[39;49m\u001b[43m(\u001b[49m\u001b[43mdst\u001b[49m\u001b[43m,\u001b[49m\u001b[43m \u001b[49m\u001b[38;5;124;43m'\u001b[39;49m\u001b[38;5;124;43mwb\u001b[39;49m\u001b[38;5;124;43m'\u001b[39;49m\u001b[43m)\u001b[49m \u001b[38;5;28;01mas\u001b[39;00m fdst:\n\u001b[1;32m    257\u001b[0m             \u001b[38;5;66;03m# macOS\u001b[39;00m\n\u001b[1;32m    258\u001b[0m             \u001b[38;5;28;01mif\u001b[39;00m _HAS_FCOPYFILE:\n\u001b[1;32m    259\u001b[0m                 \u001b[38;5;28;01mtry\u001b[39;00m:\n",
      "\u001b[0;31mFileNotFoundError\u001b[0m: [Errno 2] No such file or directory: 'data/562ac1cb77ad492a8de474976856b1ba_002.png'"
     ]
    }
   ],
   "source": [
    "# open the folder \"objaverse_data\" \n",
    "# for each folder in the folder\n",
    "# copy each file to folder \"data\"\n",
    "# when copying over the file, rename the file to be: folder_name+file_name\n",
    "\n",
    "import os\n",
    "import shutil\n",
    "\n",
    "READ_FOLDER = \"objaverse_data\"\n",
    "WRITE_FOLDER = \"data\"\n",
    "\n",
    "if not os.path.exists(WRITE_FOLDER):\n",
    "    os.makedirs(WRITE_FOLDER)\n",
    "\n",
    "filename_list = []\n",
    "\n",
    "# Iterate over all directories in the read folder\n",
    "for dir_name in os.listdir(READ_FOLDER):\n",
    "    dir_path = os.path.join(READ_FOLDER, dir_name)\n",
    "\n",
    "    # Ensure it's a directory\n",
    "    if os.path.isdir(dir_path):\n",
    "        # Iterate over all files in the directory\n",
    "        for file_name in os.listdir(dir_path):\n",
    "            file_path = os.path.join(dir_path, file_name)\n",
    "\n",
    "            # Ensure it's a file\n",
    "            if os.path.isfile(file_path):\n",
    "                # Construct the new file name and path\n",
    "                new_file_name = f\"{dir_name}_{file_name}\"\n",
    "                new_file_path = os.path.join(WRITE_FOLDER, new_file_name)\n",
    "\n",
    "                filename_list.append(new_file_name)\n",
    "\n",
    "                # Copy the file\n",
    "                shutil.copyfile(file_path, new_file_path)\n",
    "                print(\"file_path: \", file_path)\n",
    "                print(\"new_file_path: \", new_file_path)\n",
    "\n",
    "# save filename_list into a json file\n",
    "import json\n",
    "with open('filename_list.json', 'w') as f:\n",
    "    json.dump(filename_list, f)"
   ]
  },
  {
   "cell_type": "code",
   "execution_count": 4,
   "metadata": {},
   "outputs": [
    {
     "name": "stdout",
     "output_type": "stream",
     "text": [
      "filename_list:  18377\n"
     ]
    }
   ],
   "source": [
    "print(\"filename_list: \", len(filename_list))"
   ]
  },
  {
   "cell_type": "code",
   "execution_count": null,
   "metadata": {},
   "outputs": [],
   "source": []
  }
 ],
 "metadata": {
  "kernelspec": {
   "display_name": "base",
   "language": "python",
   "name": "python3"
  },
  "language_info": {
   "codemirror_mode": {
    "name": "ipython",
    "version": 3
   },
   "file_extension": ".py",
   "mimetype": "text/x-python",
   "name": "python",
   "nbconvert_exporter": "python",
   "pygments_lexer": "ipython3",
   "version": "3.10.8"
  }
 },
 "nbformat": 4,
 "nbformat_minor": 2
}

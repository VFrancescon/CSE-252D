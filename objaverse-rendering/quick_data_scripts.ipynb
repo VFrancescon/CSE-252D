{
 "cells": [
  {
   "cell_type": "code",
   "execution_count": 20,
   "metadata": {},
   "outputs": [],
   "source": [
    "# script to check how many files are there in each subfoler  of \"objaverse_data_limited_lightning\" folder \n",
    "# print if the number is different than 8\n",
    "\n",
    "import os\n",
    "\n",
    "# FOLDER = \"/Users/szczekulskij/masters-work/spring '24/CSE-252D/objaverse-rendering/objaverse_data_limited_lightning\"\n",
    "FOLDER = \"/Users/szczekulskij/masters-work/spring '24/CSE-252D/objaverse-rendering/objaverse_data\"\n",
    "\n",
    "# Iterate over all directories in the folder\n",
    "for dir_name in os.listdir(FOLDER):\n",
    "    dir_path = os.path.join(FOLDER, dir_name)\n",
    "\n",
    "    # Ensure it's a directory\n",
    "    if os.path.isdir(dir_path):\n",
    "        # Count the number of files in the directory\n",
    "        num_files = len([f for f in os.listdir(dir_path) if os.path.isfile(os.path.join(dir_path, f))])\n",
    "\n",
    "        # Print the directory name if the number of files is not 8\n",
    "        # if num_files >= 16:\n",
    "        #     print(f\"Directory {dir_name} has {num_files} files\")"
   ]
  },
  {
   "cell_type": "code",
   "execution_count": 14,
   "metadata": {},
   "outputs": [],
   "source": [
    "IMAGE_PATH = os.path.expanduser('''~/masters-work/spring '24/CSE-252D/objaverse-rendering/objaverse_data_limited_lightning''') # default path for where the rendered objaverse images will be stored\n",
    "\n",
    "downloaded_objects = set()\n",
    "for root, dirs, files in os.walk(IMAGE_PATH):\n",
    "    # based on dir name \n",
    "    for dir in dirs: \n",
    "        downloaded_objects.add(dir)"
   ]
  },
  {
   "cell_type": "code",
   "execution_count": 22,
   "metadata": {},
   "outputs": [],
   "source": [
    "# # open the folder \"objaverse_data\" \n",
    "# # for each folder in the folder\n",
    "# # copy each file to folder \"data\"\n",
    "# # when copying over the file, rename the file to be: folder_name+file_name\n",
    "\n",
    "import os\n",
    "import shutil\n",
    "\n",
    "READ_FOLDER = \"objaverse_data\"\n",
    "WRITE_FOLDER = \"data\"\n",
    "\n",
    "if not os.path.exists(WRITE_FOLDER):\n",
    "    os.makedirs(WRITE_FOLDER)\n",
    "\n",
    "# Iterate over all directories in the read folder\n",
    "for dir_name in os.listdir(READ_FOLDER):\n",
    "    dir_path = os.path.join(READ_FOLDER, dir_name)\n",
    "\n",
    "    # Ensure it's a directory\n",
    "    if os.path.isdir(dir_path):\n",
    "        # Iterate over all files in the directory\n",
    "        for file_name in os.listdir(dir_path):\n",
    "            file_path = os.path.join(dir_path, file_name)\n",
    "\n",
    "            # Ensure it's a file\n",
    "            if os.path.isfile(file_path):\n",
    "                # Construct the new file name and path\n",
    "                new_file_name = f\"{dir_name}_{file_name}\"\n",
    "                new_file_path = os.path.join(WRITE_FOLDER, new_file_name)\n",
    "\n",
    "                # Copy the file\n",
    "                shutil.copyfile(file_path, new_file_path)\n",
    "                # print(\"file_path: \", file_path)\n",
    "                # print(\"new_file_path: \", new_file_path)"
   ]
  },
  {
   "cell_type": "code",
   "execution_count": 23,
   "metadata": {},
   "outputs": [],
   "source": [
    "# open the folder \"objaverse_data\" \n",
    "# for each folder in the folder\n",
    "# copy each file to folder \"data\"\n",
    "# when copying over the file, rename the file to be: folder_name+file_name\n",
    "\n",
    "import os\n",
    "import shutil\n",
    "\n",
    "READ_FOLDER = \"objaverse_data\"\n",
    "WRITE_FOLDER = \"data\"\n",
    "\n",
    "filename_list = []\n",
    "\n",
    "# Iterate over all directories in the read folder\n",
    "for dir_name in os.listdir(READ_FOLDER):\n",
    "    dir_path = os.path.join(READ_FOLDER, dir_name)\n",
    "\n",
    "    # Ensure it's a directory\n",
    "    if os.path.isdir(dir_path):\n",
    "        # Iterate over all files in the directory\n",
    "        for file_name in os.listdir(dir_path):\n",
    "            file_path = os.path.join(dir_path, file_name)\n",
    "\n",
    "            # Ensure it's a file\n",
    "            if os.path.isfile(file_path):\n",
    "                # Construct the new file name and path\n",
    "                new_file_name = f\"{dir_name}_{file_name}\"\n",
    "                new_file_path = os.path.join(WRITE_FOLDER, new_file_name)\n",
    "\n",
    "                filename_list.append(new_file_name)\n",
    "\n",
    "                # Copy the file\n",
    "                # shutil.copyfile(file_path, new_file_path)\n",
    "                # print(\"file_path: \", file_path)\n",
    "                # print(\"new_file_path: \", new_file_path)\n",
    "\n",
    "# save filename_list into a json file\n",
    "import json\n",
    "with open('filename_list.json', 'w') as f:\n",
    "    json.dump(filename_list, f)"
   ]
  },
  {
   "cell_type": "code",
   "execution_count": 4,
   "metadata": {},
   "outputs": [
    {
     "name": "stdout",
     "output_type": "stream",
     "text": [
      "filename_list:  18377\n"
     ]
    }
   ],
   "source": [
    "print(\"filename_list: \", len(filename_list))"
   ]
  },
  {
   "cell_type": "code",
   "execution_count": null,
   "metadata": {},
   "outputs": [],
   "source": []
  }
 ],
 "metadata": {
  "kernelspec": {
   "display_name": "base",
   "language": "python",
   "name": "python3"
  },
  "language_info": {
   "codemirror_mode": {
    "name": "ipython",
    "version": 3
   },
   "file_extension": ".py",
   "mimetype": "text/x-python",
   "name": "python",
   "nbconvert_exporter": "python",
   "pygments_lexer": "ipython3",
   "version": "3.10.8"
  }
 },
 "nbformat": 4,
 "nbformat_minor": 2
}
